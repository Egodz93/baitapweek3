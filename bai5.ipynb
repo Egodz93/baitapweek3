{
  "cells": [
    {
      "cell_type": "markdown",
      "metadata": {
        "id": "view-in-github",
        "colab_type": "text"
      },
      "source": [
        "<a href=\"https://colab.research.google.com/github/Egodz93/baitapweek3/blob/main/bai5.ipynb\" target=\"_parent\"><img src=\"https://colab.research.google.com/assets/colab-badge.svg\" alt=\"Open In Colab\"/></a>"
      ]
    },
    {
      "cell_type": "markdown",
      "metadata": {
        "pycharm": {
          "name": "#%% md\n"
        },
        "id": "NHT01GzOZF6I"
      },
      "source": [
        "# Student Alcohol Consumption"
      ]
    },
    {
      "cell_type": "markdown",
      "metadata": {
        "pycharm": {
          "name": "#%% md\n"
        },
        "id": "qpaUGVj2ZF6L"
      },
      "source": [
        "### Introduction:\n",
        "\n",
        "This time you will download a dataset from the UCI.\n",
        "\n",
        "### Step 1. Import the necessary libraries"
      ]
    },
    {
      "cell_type": "code",
      "execution_count": null,
      "metadata": {
        "pycharm": {
          "name": "#%%\n"
        },
        "id": "0whmGLeBZF6N"
      },
      "outputs": [],
      "source": [
        "import pandas as pd"
      ]
    },
    {
      "cell_type": "markdown",
      "metadata": {
        "pycharm": {
          "name": "#%% md\n"
        },
        "id": "FvKZYItKZF6N"
      },
      "source": [
        "### Step 2. Import the dataset from this [address](https://raw.githubusercontent.com/thieu1995/csv-files/main/data/pandas/student-mat.csv)."
      ]
    },
    {
      "cell_type": "markdown",
      "metadata": {
        "pycharm": {
          "name": "#%% md\n"
        },
        "id": "F7mv4sS_ZF6O"
      },
      "source": [
        "### Step 3. Assign it to a variable called df."
      ]
    },
    {
      "cell_type": "code",
      "execution_count": null,
      "metadata": {
        "pycharm": {
          "name": "#%%\n"
        },
        "id": "rCEdDEf4ZF6P",
        "colab": {
          "base_uri": "https://localhost:8080/"
        },
        "outputId": "7b5b0774-7256-4911-b49c-5df706c3a7b1"
      },
      "outputs": [
        {
          "output_type": "stream",
          "name": "stdout",
          "text": [
            "    school sex  age address famsize Pstatus  Medu  Fedu      Mjob      Fjob  \\\n",
            "0       GP   F   18       U     GT3       A     4     4   at_home   teacher   \n",
            "1       GP   F   17       U     GT3       T     1     1   at_home     other   \n",
            "2       GP   F   15       U     LE3       T     1     1   at_home     other   \n",
            "3       GP   F   15       U     GT3       T     4     2    health  services   \n",
            "4       GP   F   16       U     GT3       T     3     3     other     other   \n",
            "..     ...  ..  ...     ...     ...     ...   ...   ...       ...       ...   \n",
            "390     MS   M   20       U     LE3       A     2     2  services  services   \n",
            "391     MS   M   17       U     LE3       T     3     1  services  services   \n",
            "392     MS   M   21       R     GT3       T     1     1     other     other   \n",
            "393     MS   M   18       R     LE3       T     3     2  services     other   \n",
            "394     MS   M   19       U     LE3       T     1     1     other   at_home   \n",
            "\n",
            "     ... famrel freetime  goout  Dalc  Walc health absences  G1  G2  G3  \n",
            "0    ...      4        3      4     1     1      3        6   5   6   6  \n",
            "1    ...      5        3      3     1     1      3        4   5   5   6  \n",
            "2    ...      4        3      2     2     3      3       10   7   8  10  \n",
            "3    ...      3        2      2     1     1      5        2  15  14  15  \n",
            "4    ...      4        3      2     1     2      5        4   6  10  10  \n",
            "..   ...    ...      ...    ...   ...   ...    ...      ...  ..  ..  ..  \n",
            "390  ...      5        5      4     4     5      4       11   9   9   9  \n",
            "391  ...      2        4      5     3     4      2        3  14  16  16  \n",
            "392  ...      5        5      3     3     3      3        3  10   8   7  \n",
            "393  ...      4        4      1     3     4      5        0  11  12  10  \n",
            "394  ...      3        2      3     3     3      5        5   8   9   9  \n",
            "\n",
            "[395 rows x 33 columns]\n"
          ]
        }
      ],
      "source": [
        "url = \"https://raw.githubusercontent.com/thieu1995/csv-files/main/data/pandas/student-mat.csv\"\n",
        "df = pd.read_csv(url)\n",
        "print(df)"
      ]
    },
    {
      "cell_type": "markdown",
      "metadata": {
        "pycharm": {
          "name": "#%% md\n"
        },
        "id": "dkMQl9TkZF6P"
      },
      "source": [
        "### Step 4. For the purpose of this exercise slice the dataframe from 'school' until the 'guardian' column"
      ]
    },
    {
      "cell_type": "code",
      "execution_count": null,
      "metadata": {
        "pycharm": {
          "name": "#%%\n"
        },
        "id": "rdBBVTiNZF6P",
        "colab": {
          "base_uri": "https://localhost:8080/"
        },
        "outputId": "252d091f-7953-40c8-f899-77a8537bfce0"
      },
      "outputs": [
        {
          "output_type": "stream",
          "name": "stdout",
          "text": [
            "    school sex  age address famsize Pstatus  Medu  Fedu      Mjob      Fjob  \\\n",
            "0       GP   F   18       U     GT3       A     4     4   at_home   teacher   \n",
            "1       GP   F   17       U     GT3       T     1     1   at_home     other   \n",
            "2       GP   F   15       U     LE3       T     1     1   at_home     other   \n",
            "3       GP   F   15       U     GT3       T     4     2    health  services   \n",
            "4       GP   F   16       U     GT3       T     3     3     other     other   \n",
            "..     ...  ..  ...     ...     ...     ...   ...   ...       ...       ...   \n",
            "390     MS   M   20       U     LE3       A     2     2  services  services   \n",
            "391     MS   M   17       U     LE3       T     3     1  services  services   \n",
            "392     MS   M   21       R     GT3       T     1     1     other     other   \n",
            "393     MS   M   18       R     LE3       T     3     2  services     other   \n",
            "394     MS   M   19       U     LE3       T     1     1     other   at_home   \n",
            "\n",
            "     reason guardian  \n",
            "0    course   mother  \n",
            "1    course   father  \n",
            "2     other   mother  \n",
            "3      home   mother  \n",
            "4      home   father  \n",
            "..      ...      ...  \n",
            "390  course    other  \n",
            "391  course   mother  \n",
            "392  course    other  \n",
            "393  course   mother  \n",
            "394  course   father  \n",
            "\n",
            "[395 rows x 12 columns]\n"
          ]
        }
      ],
      "source": [
        "# Cắt DataFrame từ 'school' đến 'guardian'\n",
        "df_sliced = df.loc[:, 'school':'guardian']\n",
        "\n",
        "# In ra kết quả\n",
        "print(df_sliced)\n"
      ]
    },
    {
      "cell_type": "markdown",
      "metadata": {
        "pycharm": {
          "name": "#%% md\n"
        },
        "id": "DT4KmsPiZF6Q"
      },
      "source": [
        "### Step 5. Create a lambda function that will capitalize strings."
      ]
    },
    {
      "cell_type": "code",
      "execution_count": null,
      "metadata": {
        "pycharm": {
          "name": "#%%\n"
        },
        "id": "27gXUqC_ZF6Q",
        "colab": {
          "base_uri": "https://localhost:8080/"
        },
        "outputId": "7b7e5be1-7b90-489f-bc8f-f16ea6de3f87"
      },
      "outputs": [
        {
          "output_type": "stream",
          "name": "stdout",
          "text": [
            "Hello world\n"
          ]
        }
      ],
      "source": [
        "# Tạo lambda function để viết hoa chữ cái đầu tiên của chuỗi\n",
        "capitalize_string = lambda x: x.capitalize()\n",
        "\n",
        "# Ví dụ: Áp dụng lambda function vào một chuỗi\n",
        "sample_string = \"hello world\"\n",
        "capitalized_string = capitalize_string(sample_string)\n",
        "\n",
        "# In ra kết quả\n",
        "print(capitalized_string)\n"
      ]
    },
    {
      "cell_type": "markdown",
      "metadata": {
        "pycharm": {
          "name": "#%% md\n"
        },
        "id": "T7t4Jf3oZF6R"
      },
      "source": [
        "### Step 6. Capitalize both Mjob and Fjob"
      ]
    },
    {
      "cell_type": "code",
      "execution_count": null,
      "metadata": {
        "pycharm": {
          "name": "#%%\n"
        },
        "id": "DcMLaerIZF6R",
        "colab": {
          "base_uri": "https://localhost:8080/"
        },
        "outputId": "d2e8b15e-55a5-4f39-8315-58ad07dc20ee"
      },
      "outputs": [
        {
          "output_type": "stream",
          "name": "stdout",
          "text": [
            "      Mjob      Fjob\n",
            "0  At_home   Teacher\n",
            "1  At_home     Other\n",
            "2  At_home     Other\n",
            "3   Health  Services\n",
            "4    Other     Other\n"
          ]
        }
      ],
      "source": [
        "# Capitalize các giá trị trong cột 'Mjob' và 'Fjob'\n",
        "df['Mjob'] = df['Mjob'].apply(lambda x: x.capitalize())\n",
        "df['Fjob'] = df['Fjob'].apply(lambda x: x.capitalize())\n",
        "\n",
        "# In ra kết quả để kiểm tra\n",
        "print(df[['Mjob', 'Fjob']].head())\n"
      ]
    },
    {
      "cell_type": "markdown",
      "metadata": {
        "pycharm": {
          "name": "#%% md\n"
        },
        "id": "Ti185WBGZF6R"
      },
      "source": [
        "### Step 7. Print the last elements of the data set."
      ]
    },
    {
      "cell_type": "code",
      "execution_count": null,
      "metadata": {
        "pycharm": {
          "name": "#%%\n"
        },
        "id": "5l9wVHW7ZF6R",
        "colab": {
          "base_uri": "https://localhost:8080/"
        },
        "outputId": "7d289edd-b2c3-43ad-9af8-40415971f493"
      },
      "outputs": [
        {
          "output_type": "stream",
          "name": "stdout",
          "text": [
            "    school sex  age address famsize Pstatus  Medu  Fedu      Mjob      Fjob  \\\n",
            "385     MS   F   18       R     GT3       T     2     2   At_home     Other   \n",
            "386     MS   F   18       R     GT3       T     4     4   Teacher   At_home   \n",
            "387     MS   F   19       R     GT3       T     2     3  Services     Other   \n",
            "388     MS   F   18       U     LE3       T     3     1   Teacher  Services   \n",
            "389     MS   F   18       U     GT3       T     1     1     Other     Other   \n",
            "390     MS   M   20       U     LE3       A     2     2  Services  Services   \n",
            "391     MS   M   17       U     LE3       T     3     1  Services  Services   \n",
            "392     MS   M   21       R     GT3       T     1     1     Other     Other   \n",
            "393     MS   M   18       R     LE3       T     3     2  Services     Other   \n",
            "394     MS   M   19       U     LE3       T     1     1     Other   At_home   \n",
            "\n",
            "     ... famrel freetime  goout  Dalc  Walc health absences  G1  G2  G3  \n",
            "385  ...      5        3      3     1     3      4        2  10   9  10  \n",
            "386  ...      4        4      3     2     2      5        7   6   5   6  \n",
            "387  ...      5        4      2     1     2      5        0   7   5   0  \n",
            "388  ...      4        3      4     1     1      1        0   7   9   8  \n",
            "389  ...      1        1      1     1     1      5        0   6   5   0  \n",
            "390  ...      5        5      4     4     5      4       11   9   9   9  \n",
            "391  ...      2        4      5     3     4      2        3  14  16  16  \n",
            "392  ...      5        5      3     3     3      3        3  10   8   7  \n",
            "393  ...      4        4      1     3     4      5        0  11  12  10  \n",
            "394  ...      3        2      3     3     3      5        5   8   9   9  \n",
            "\n",
            "[10 rows x 33 columns]\n"
          ]
        }
      ],
      "source": [
        "print(df.tail(10))"
      ]
    },
    {
      "cell_type": "markdown",
      "metadata": {
        "pycharm": {
          "name": "#%% md\n"
        },
        "id": "OMuKoJsbZF6S"
      },
      "source": [
        "### Step 8. Did you notice the original dataframe is still lowercase? Why is that? Fix it and capitalize Mjob and Fjob."
      ]
    },
    {
      "cell_type": "code",
      "execution_count": null,
      "metadata": {
        "pycharm": {
          "name": "#%%\n"
        },
        "id": "ZGMEuaUuZF6S",
        "colab": {
          "base_uri": "https://localhost:8080/"
        },
        "outputId": "f413f768-33c8-465a-98a8-76a936c744a7"
      },
      "outputs": [
        {
          "output_type": "stream",
          "name": "stdout",
          "text": [
            "      Mjob      Fjob\n",
            "0  At_home   Teacher\n",
            "1  At_home     Other\n",
            "2  At_home     Other\n",
            "3   Health  Services\n",
            "4    Other     Other\n"
          ]
        }
      ],
      "source": [
        "# Capitalize các giá trị trong cột 'Mjob' và 'Fjob' trực tiếp trên DataFrame gốc\n",
        "df['Mjob'] = df['Mjob'].apply(lambda x: x.capitalize())\n",
        "df['Fjob'] = df['Fjob'].apply(lambda x: x.capitalize())\n",
        "\n",
        "# Kiểm tra kết quả bằng cách in ra một vài dòng đầu tiên\n",
        "print(df[['Mjob', 'Fjob']].head())\n"
      ]
    },
    {
      "cell_type": "markdown",
      "metadata": {
        "pycharm": {
          "name": "#%% md\n"
        },
        "id": "9XGWt3GaZF6S"
      },
      "source": [
        "### Step 9. Create a function called majority that returns a boolean value to a new column called legal_drinker (Consider majority as older than 17 years old)"
      ]
    },
    {
      "cell_type": "code",
      "execution_count": null,
      "metadata": {
        "pycharm": {
          "name": "#%%\n"
        },
        "id": "4ftzyEDjZF6T",
        "colab": {
          "base_uri": "https://localhost:8080/"
        },
        "outputId": "28655825-07ac-45c5-a940-4f72ba883add"
      },
      "outputs": [
        {
          "output_type": "stream",
          "name": "stdout",
          "text": [
            "   age  legal_drinker\n",
            "0   18           True\n",
            "1   17          False\n",
            "2   15          False\n",
            "3   15          False\n",
            "4   16          False\n"
          ]
        }
      ],
      "source": [
        "def majority(age):\n",
        "    return age > 17\n",
        "\n",
        "# Áp dụng hàm majority vào cột 'age' và tạo cột mới 'legal_drinker'\n",
        "df['legal_drinker'] = df['age'].apply(majority)\n",
        "\n",
        "# In ra kết quả để kiểm tra cột mới\n",
        "print(df[['age', 'legal_drinker']].head())\n"
      ]
    },
    {
      "cell_type": "code",
      "execution_count": null,
      "metadata": {
        "pycharm": {
          "name": "#%%\n"
        },
        "id": "_JhrdYToZF6T"
      },
      "outputs": [],
      "source": []
    },
    {
      "cell_type": "markdown",
      "metadata": {
        "pycharm": {
          "name": "#%% md\n"
        },
        "id": "WEaRA03qZF6T"
      },
      "source": [
        "### Step 10. Multiply every number of the dataset by 10.\n",
        "##### I know this makes no sense, don't forget it is just an exercise"
      ]
    },
    {
      "cell_type": "code",
      "execution_count": null,
      "metadata": {
        "pycharm": {
          "name": "#%%\n"
        },
        "id": "XMW3cUeYZF6U",
        "colab": {
          "base_uri": "https://localhost:8080/"
        },
        "outputId": "7f04873a-70e1-48e0-d786-4222585198b8"
      },
      "outputs": [
        {
          "output_type": "stream",
          "name": "stdout",
          "text": [
            "  school sex  age address famsize Pstatus  Medu  Fedu     Mjob      Fjob  ...  \\\n",
            "0     GP   F  180       U     GT3       A    40    40  At_home   Teacher  ...   \n",
            "1     GP   F  170       U     GT3       T    10    10  At_home     Other  ...   \n",
            "2     GP   F  150       U     LE3       T    10    10  At_home     Other  ...   \n",
            "3     GP   F  150       U     GT3       T    40    20   Health  Services  ...   \n",
            "4     GP   F  160       U     GT3       T    30    30    Other     Other  ...   \n",
            "\n",
            "  freetime goout  Dalc  Walc  health absences   G1   G2   G3 legal_drinker  \n",
            "0       30    40    10    10      30       60   50   60   60          True  \n",
            "1       30    30    10    10      30       40   50   50   60         False  \n",
            "2       30    20    20    30      30      100   70   80  100         False  \n",
            "3       20    20    10    10      50       20  150  140  150         False  \n",
            "4       30    20    10    20      50       40   60  100  100         False  \n",
            "\n",
            "[5 rows x 34 columns]\n"
          ]
        }
      ],
      "source": [
        "# Chọn các cột có kiểu dữ liệu số\n",
        "df_numeric = df.select_dtypes(include=['number'])\n",
        "\n",
        "# Nhân tất cả các giá trị số với 10\n",
        "df_numeric = df_numeric * 10\n",
        "\n",
        "# Cập nhật lại DataFrame ban đầu, thay đổi chỉ các cột số\n",
        "df[df_numeric.columns] = df_numeric\n",
        "\n",
        "# In ra kết quả để kiểm tra\n",
        "print(df.head())\n"
      ]
    },
    {
      "cell_type": "code",
      "execution_count": null,
      "metadata": {
        "pycharm": {
          "name": "#%%\n"
        },
        "id": "8WPD920bZF6U"
      },
      "outputs": [],
      "source": []
    }
  ],
  "metadata": {
    "anaconda-cloud": {},
    "kernelspec": {
      "display_name": "Python [default]",
      "language": "python",
      "name": "python2"
    },
    "language_info": {
      "codemirror_mode": {
        "name": "ipython",
        "version": 2
      },
      "file_extension": ".py",
      "mimetype": "text/x-python",
      "name": "python",
      "nbconvert_exporter": "python",
      "pygments_lexer": "ipython2",
      "version": "2.7.12"
    },
    "colab": {
      "provenance": [],
      "include_colab_link": true
    }
  },
  "nbformat": 4,
  "nbformat_minor": 0
}