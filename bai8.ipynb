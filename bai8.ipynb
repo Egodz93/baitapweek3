{
  "cells": [
    {
      "cell_type": "markdown",
      "metadata": {
        "id": "view-in-github",
        "colab_type": "text"
      },
      "source": [
        "<a href=\"https://colab.research.google.com/github/Egodz93/baitapweek3/blob/main/bai8.ipynb\" target=\"_parent\"><img src=\"https://colab.research.google.com/assets/colab-badge.svg\" alt=\"Open In Colab\"/></a>"
      ]
    },
    {
      "cell_type": "markdown",
      "metadata": {
        "pycharm": {
          "name": "#%% md\n"
        },
        "id": "ds55Tmn3iT6W"
      },
      "source": [
        "# Iris"
      ]
    },
    {
      "cell_type": "markdown",
      "metadata": {
        "pycharm": {
          "name": "#%% md\n"
        },
        "id": "9M3EKLAdiT6e"
      },
      "source": [
        "### Introduction:\n",
        "\n",
        "This exercise may seem a little bit strange, but keep doing it.\n",
        "\n",
        "### Step 1. Import the necessary libraries"
      ]
    },
    {
      "cell_type": "code",
      "execution_count": null,
      "metadata": {
        "pycharm": {
          "name": "#%%\n"
        },
        "id": "tnI0SsGqiT6g"
      },
      "outputs": [],
      "source": [
        "import pandas as pd\n",
        "import numpy as np"
      ]
    },
    {
      "cell_type": "markdown",
      "metadata": {
        "pycharm": {
          "name": "#%% md\n"
        },
        "id": "HoqY6G3iiT6h"
      },
      "source": [
        "### Step 2. Import the dataset from this [address](https://archive.ics.uci.edu/ml/machine-learning-databases/iris/iris.data)."
      ]
    },
    {
      "cell_type": "markdown",
      "metadata": {
        "pycharm": {
          "name": "#%% md\n"
        },
        "id": "PrpUG3ljiT6i"
      },
      "source": [
        "### Step 3. Assign it to a variable called iris"
      ]
    },
    {
      "cell_type": "code",
      "execution_count": null,
      "metadata": {
        "pycharm": {
          "name": "#%%\n"
        },
        "colab": {
          "base_uri": "https://localhost:8080/"
        },
        "id": "6IJqTB_0iT6m",
        "outputId": "74fd546b-531a-4ed2-bfc4-17750702168d"
      },
      "outputs": [
        {
          "output_type": "stream",
          "name": "stdout",
          "text": [
            "     5.1  3.5  1.4  0.2     Iris-setosa\n",
            "0    4.9  3.0  1.4  0.2     Iris-setosa\n",
            "1    4.7  3.2  1.3  0.2     Iris-setosa\n",
            "2    4.6  3.1  1.5  0.2     Iris-setosa\n",
            "3    5.0  3.6  1.4  0.2     Iris-setosa\n",
            "4    5.4  3.9  1.7  0.4     Iris-setosa\n",
            "..   ...  ...  ...  ...             ...\n",
            "144  6.7  3.0  5.2  2.3  Iris-virginica\n",
            "145  6.3  2.5  5.0  1.9  Iris-virginica\n",
            "146  6.5  3.0  5.2  2.0  Iris-virginica\n",
            "147  6.2  3.4  5.4  2.3  Iris-virginica\n",
            "148  5.9  3.0  5.1  1.8  Iris-virginica\n",
            "\n",
            "[149 rows x 5 columns]\n"
          ]
        }
      ],
      "source": [
        "url = \"https://archive.ics.uci.edu/ml/machine-learning-databases/iris/iris.data\"\n",
        "iris = pd.read_csv(url)\n",
        "print(iris)"
      ]
    },
    {
      "cell_type": "markdown",
      "metadata": {
        "pycharm": {
          "name": "#%% md\n"
        },
        "id": "BelKu6_PiT6n"
      },
      "source": [
        "### Step 4. Create columns for the dataset"
      ]
    },
    {
      "cell_type": "code",
      "execution_count": null,
      "metadata": {
        "pycharm": {
          "name": "#%%\n"
        },
        "colab": {
          "base_uri": "https://localhost:8080/"
        },
        "id": "l_l_n1LIiT6o",
        "outputId": "821592ea-6140-4ffe-f7df-64bc1cf7a2b5"
      },
      "outputs": [
        {
          "output_type": "stream",
          "name": "stdout",
          "text": [
            "     sepal_length  sepal_width  petal_length  petal_width           class\n",
            "0             5.1          3.5           1.4          0.2     Iris-setosa\n",
            "1             4.9          3.0           1.4          0.2     Iris-setosa\n",
            "2             4.7          3.2           1.3          0.2     Iris-setosa\n",
            "3             4.6          3.1           1.5          0.2     Iris-setosa\n",
            "4             5.0          3.6           1.4          0.2     Iris-setosa\n",
            "..            ...          ...           ...          ...             ...\n",
            "145           6.7          3.0           5.2          2.3  Iris-virginica\n",
            "146           6.3          2.5           5.0          1.9  Iris-virginica\n",
            "147           6.5          3.0           5.2          2.0  Iris-virginica\n",
            "148           6.2          3.4           5.4          2.3  Iris-virginica\n",
            "149           5.9          3.0           5.1          1.8  Iris-virginica\n",
            "\n",
            "[150 rows x 5 columns]\n"
          ]
        }
      ],
      "source": [
        "# 1. sepal_length (in cm)\n",
        "# 2. sepal_width (in cm)\n",
        "# 3. petal_length (in cm)\n",
        "# 4. petal_width (in cm)\n",
        "# 5. class\n",
        "column_names = ['sepal_length', 'sepal_width', 'petal_length', 'petal_width', 'class']\n",
        "iris = pd.read_csv(url, header=None, names=column_names)\n",
        "print(iris)"
      ]
    },
    {
      "cell_type": "markdown",
      "metadata": {
        "pycharm": {
          "name": "#%% md\n"
        },
        "id": "Qs-gBPcViT6p"
      },
      "source": [
        "### Step 5.  Is there any missing value in the dataframe?"
      ]
    },
    {
      "cell_type": "code",
      "execution_count": null,
      "metadata": {
        "pycharm": {
          "name": "#%%\n"
        },
        "colab": {
          "base_uri": "https://localhost:8080/"
        },
        "id": "qndtc59_iT6r",
        "outputId": "238ffe91-7503-4a23-8d90-62e9ffb5f2fc"
      },
      "outputs": [
        {
          "output_type": "stream",
          "name": "stdout",
          "text": [
            "sepal_length    0\n",
            "sepal_width     0\n",
            "petal_length    0\n",
            "petal_width     0\n",
            "class           0\n",
            "dtype: int64\n"
          ]
        }
      ],
      "source": [
        "missing_values = iris.isnull().sum()\n",
        "print(missing_values)"
      ]
    },
    {
      "cell_type": "markdown",
      "metadata": {
        "pycharm": {
          "name": "#%% md\n"
        },
        "id": "HQkfKUd_iT6r"
      },
      "source": [
        "### Step 6.  Lets set the values of the rows 10 to 29 of the column 'petal_length' to NaN"
      ]
    },
    {
      "cell_type": "code",
      "execution_count": null,
      "metadata": {
        "pycharm": {
          "name": "#%%\n"
        },
        "colab": {
          "base_uri": "https://localhost:8080/"
        },
        "id": "L6NimPAriT6s",
        "outputId": "626ba12c-4b98-44db-a0b8-e91c30181b64"
      },
      "outputs": [
        {
          "output_type": "stream",
          "name": "stdout",
          "text": [
            "    petal_length\n",
            "10           NaN\n",
            "11           NaN\n",
            "12           NaN\n",
            "13           NaN\n",
            "14           NaN\n",
            "15           NaN\n",
            "16           NaN\n",
            "17           NaN\n",
            "18           NaN\n",
            "19           NaN\n",
            "20           NaN\n",
            "21           NaN\n",
            "22           NaN\n",
            "23           NaN\n",
            "24           NaN\n",
            "25           NaN\n",
            "26           NaN\n",
            "27           NaN\n",
            "28           NaN\n",
            "29           NaN\n"
          ]
        }
      ],
      "source": [
        "iris.loc[10:29, 'petal_length'] = np.nan\n",
        "print(iris.loc[10:29, ['petal_length']])"
      ]
    },
    {
      "cell_type": "markdown",
      "metadata": {
        "pycharm": {
          "name": "#%% md\n"
        },
        "id": "f6jDNo6giT6s"
      },
      "source": [
        "### Step 7. Good, now lets substitute the NaN values to 1.0"
      ]
    },
    {
      "cell_type": "code",
      "execution_count": null,
      "metadata": {
        "pycharm": {
          "name": "#%%\n"
        },
        "colab": {
          "base_uri": "https://localhost:8080/"
        },
        "id": "LIm3ii3tiT6u",
        "outputId": "fdaa5e4b-877c-4458-8cdb-9d00e66be7b6"
      },
      "outputs": [
        {
          "output_type": "stream",
          "name": "stdout",
          "text": [
            "    petal_length\n",
            "10           1.0\n",
            "11           1.0\n",
            "12           1.0\n",
            "13           1.0\n",
            "14           1.0\n",
            "15           1.0\n",
            "16           1.0\n",
            "17           1.0\n",
            "18           1.0\n",
            "19           1.0\n",
            "20           1.0\n",
            "21           1.0\n",
            "22           1.0\n",
            "23           1.0\n",
            "24           1.0\n",
            "25           1.0\n",
            "26           1.0\n",
            "27           1.0\n",
            "28           1.0\n",
            "29           1.0\n"
          ]
        }
      ],
      "source": [
        "iris['petal_length'] = iris['petal_length'].fillna(1.0)\n",
        "print(iris.loc[10:29, ['petal_length']])"
      ]
    },
    {
      "cell_type": "markdown",
      "metadata": {
        "pycharm": {
          "name": "#%% md\n"
        },
        "id": "DDtfna31iT6v"
      },
      "source": [
        "### Step 8. Now let's delete the column class"
      ]
    },
    {
      "cell_type": "code",
      "execution_count": null,
      "metadata": {
        "pycharm": {
          "name": "#%%\n"
        },
        "colab": {
          "base_uri": "https://localhost:8080/"
        },
        "id": "2D-vJh20iT6w",
        "outputId": "88d5c3fe-2436-46eb-cd49-478c9b8af7c0"
      },
      "outputs": [
        {
          "output_type": "stream",
          "name": "stdout",
          "text": [
            "     sepal_length  sepal_width  petal_length  petal_width\n",
            "0             5.1          3.5           1.4          0.2\n",
            "1             4.9          3.0           1.4          0.2\n",
            "2             4.7          3.2           1.3          0.2\n",
            "3             4.6          3.1           1.5          0.2\n",
            "4             5.0          3.6           1.4          0.2\n",
            "..            ...          ...           ...          ...\n",
            "145           6.7          3.0           5.2          2.3\n",
            "146           6.3          2.5           5.0          1.9\n",
            "147           6.5          3.0           5.2          2.0\n",
            "148           6.2          3.4           5.4          2.3\n",
            "149           5.9          3.0           5.1          1.8\n",
            "\n",
            "[150 rows x 4 columns]\n"
          ]
        }
      ],
      "source": [
        "iris = iris.drop('class', axis=1)\n",
        "print(iris)"
      ]
    },
    {
      "cell_type": "markdown",
      "metadata": {
        "pycharm": {
          "name": "#%% md\n"
        },
        "id": "t6bvzWimiT6w"
      },
      "source": [
        "### Step 9.  Set the first 3 rows as NaN"
      ]
    },
    {
      "cell_type": "code",
      "execution_count": null,
      "metadata": {
        "pycharm": {
          "name": "#%%\n"
        },
        "colab": {
          "base_uri": "https://localhost:8080/"
        },
        "id": "6C91EfkFiT6x",
        "outputId": "3cbaa191-e8c0-4973-91d9-050a9282aa60"
      },
      "outputs": [
        {
          "output_type": "stream",
          "name": "stdout",
          "text": [
            "     sepal_length  sepal_width  petal_length  petal_width\n",
            "0             NaN          NaN           NaN          NaN\n",
            "1             NaN          NaN           NaN          NaN\n",
            "2             NaN          NaN           NaN          NaN\n",
            "3             4.6          3.1           1.5          0.2\n",
            "4             5.0          3.6           1.4          0.2\n",
            "..            ...          ...           ...          ...\n",
            "145           6.7          3.0           5.2          2.3\n",
            "146           6.3          2.5           5.0          1.9\n",
            "147           6.5          3.0           5.2          2.0\n",
            "148           6.2          3.4           5.4          2.3\n",
            "149           5.9          3.0           5.1          1.8\n",
            "\n",
            "[150 rows x 4 columns]\n"
          ]
        }
      ],
      "source": [
        "iris.iloc[0:3] = np.nan\n",
        "print(iris)"
      ]
    },
    {
      "cell_type": "markdown",
      "metadata": {
        "pycharm": {
          "name": "#%% md\n"
        },
        "id": "5EUKeqbiiT6x"
      },
      "source": [
        "### Step 10.  Delete the rows that have NaN"
      ]
    },
    {
      "cell_type": "code",
      "execution_count": null,
      "metadata": {
        "pycharm": {
          "name": "#%%\n"
        },
        "colab": {
          "base_uri": "https://localhost:8080/"
        },
        "id": "C1iOOHL4iT6x",
        "outputId": "2237fbf5-168d-43ad-afcd-f0292916c80f"
      },
      "outputs": [
        {
          "output_type": "stream",
          "name": "stdout",
          "text": [
            "   sepal_length  sepal_width  petal_length  petal_width\n",
            "3           4.6          3.1           1.5          0.2\n",
            "4           5.0          3.6           1.4          0.2\n",
            "5           5.4          3.9           1.7          0.4\n",
            "6           4.6          3.4           1.4          0.3\n",
            "7           5.0          3.4           1.5          0.2\n"
          ]
        }
      ],
      "source": [
        "iris = iris.dropna()\n",
        "print(iris.head())"
      ]
    },
    {
      "cell_type": "markdown",
      "metadata": {
        "pycharm": {
          "name": "#%% md\n"
        },
        "id": "Sz1KC1-FiT6x"
      },
      "source": [
        "### Step 11. Reset the index so it begins with 0 again"
      ]
    },
    {
      "cell_type": "code",
      "execution_count": null,
      "metadata": {
        "pycharm": {
          "name": "#%%\n"
        },
        "colab": {
          "base_uri": "https://localhost:8080/"
        },
        "id": "2l4yg-EGiT6x",
        "outputId": "75333d74-122c-43c2-c08b-54e4a8db35fa"
      },
      "outputs": [
        {
          "output_type": "stream",
          "name": "stdout",
          "text": [
            "   sepal_length  sepal_width  petal_length  petal_width\n",
            "0           NaN          NaN           NaN          NaN\n",
            "1           NaN          NaN           NaN          NaN\n",
            "2           NaN          NaN           NaN          NaN\n",
            "3           4.6          3.1           1.5          0.2\n",
            "4           5.0          3.6           1.4          0.2\n"
          ]
        }
      ],
      "source": [
        "iris = iris.reset_index(drop=True)\n",
        "print(iris.head())"
      ]
    },
    {
      "cell_type": "markdown",
      "metadata": {
        "pycharm": {
          "name": "#%% md\n"
        },
        "id": "-2wwUbwkiT6y"
      },
      "source": [
        "### BONUS: Create your own question and answer it."
      ]
    },
    {
      "cell_type": "code",
      "execution_count": null,
      "metadata": {
        "collapsed": true,
        "pycharm": {
          "name": "#%%\n"
        },
        "id": "dz1tI0BTiT6y"
      },
      "outputs": [],
      "source": []
    }
  ],
  "metadata": {
    "kernelspec": {
      "display_name": "Python 2",
      "language": "python",
      "name": "python2"
    },
    "language_info": {
      "codemirror_mode": {
        "name": "ipython",
        "version": 2
      },
      "file_extension": ".py",
      "mimetype": "text/x-python",
      "name": "python",
      "nbconvert_exporter": "python",
      "pygments_lexer": "ipython2",
      "version": "2.7.11"
    },
    "colab": {
      "provenance": [],
      "include_colab_link": true
    }
  },
  "nbformat": 4,
  "nbformat_minor": 0
}